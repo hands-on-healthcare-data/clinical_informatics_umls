{
 "cells": [
  {
   "cell_type": "code",
   "execution_count": null,
   "source": [
    "import pandas as pd\n",
    "import getpass\n",
    "from neo4j import GraphDatabase\n",
    "\n",
    "pd.set_option(\"max_colwidth\", 999)\n",
    "pd.set_option(\"max_rows\", 999)\n"
   ],
   "outputs": [],
   "metadata": {}
  },
  {
   "cell_type": "code",
   "execution_count": null,
   "source": [
    "# Class for opening/closing & querying db via neo4j driver (not currently used in this .ipynb)\n",
    "\n",
    "class Neo4jConnection:\n",
    "\n",
    "    def __init__(self, uri, username, password):\n",
    "        self.__uri = uri\n",
    "        self.__username = username\n",
    "        self.__password = password\n",
    "        self.__driver = None\n",
    "\n",
    "        try:\n",
    "            self.__driver = GraphDatabase.driver(\n",
    "                self.__uri, auth=(self.__username, self.__password))\n",
    "        except Exception as e:\n",
    "            print(\"Failed to create driver\", e)\n",
    "\n",
    "    def close(self):\n",
    "        if self.__driver is not None:\n",
    "            self.__driver.close()\n",
    "\n",
    "    def query(self, query, parameters=None, db=None):\n",
    "        assert self.__driver is not None, \"Driver not initialized.\"\n",
    "        session = None\n",
    "        response = None\n",
    "\n",
    "        try:\n",
    "            session = self.__driver.session(\n",
    "                database=db) if db is not None else self.__driver.session()\n",
    "            response = list(session.run(query, parameters))\n",
    "        except Exception as e:\n",
    "            print(\"Query has failed:\", e)\n",
    "        finally:\n",
    "            if session is not None:\n",
    "                session.close()\n",
    "        return response\n"
   ],
   "outputs": [],
   "metadata": {}
  },
  {
   "cell_type": "code",
   "execution_count": null,
   "source": [
    "# Define connection uri, username & password parameters to establish driver connection (using neo4j official driver)\n",
    "\n",
    "uri = 'neo4j://localhost:7687'\n",
    "user = 'neo4j'\n",
    "password = getpass.getpass(\"Please enter password: \")\n"
   ],
   "outputs": [],
   "metadata": {}
  },
  {
   "cell_type": "code",
   "execution_count": null,
   "source": [
    "# Define driver\n",
    "driver = GraphDatabase.driver(uri=uri, auth=(user, password))\n",
    "print(driver)"
   ],
   "outputs": [],
   "metadata": {}
  },
  {
   "cell_type": "markdown",
   "source": [
    "### Delete Orphan Nodes Prior to Indexing"
   ],
   "metadata": {}
  },
  {
   "cell_type": "code",
   "execution_count": null,
   "source": [
    "with driver.session(database=\"neo4j\") as session:\n",
    "    display(session.run(\n",
    "        \"MATCH (orphans) WHERE size((orphans)--())=0 DELETE orphans\").consume().counters)\n"
   ],
   "outputs": [],
   "metadata": {}
  },
  {
   "cell_type": "markdown",
   "source": [
    "### Create Unique Property Constraints & Indexes\n",
    "\n",
    "Note: Contraints must be applied s/p import of data when utilizing `neo4j-admin import` tool"
   ],
   "metadata": {}
  },
  {
   "cell_type": "code",
   "execution_count": null,
   "source": [
    "# Apply all unique property constraints & indexes to the graph\n",
    "with driver.session(database=\"neo4j\") as session:\n",
    "    display(session.run(\n",
    "        \"CREATE CONSTRAINT ON (atom:Atom) ASSERT atom.AtomId IS UNIQUE\").consume().counters)\n",
    "    display(session.run(\n",
    "        \"CREATE CONSTRAINT ON (concept:Concept) ASSERT concept.ConceptId IS UNIQUE\").consume().counters)\n",
    "    display(session.run(\n",
    "        \"CREATE CONSTRAINT ON (code:Code) ASSERT code.CodeId IS UNIQUE\").consume().counters)\n",
    "    display(session.run(\n",
    "        \"CREATE CONSTRAINT ON (atc:ATC) ASSERT atc.CodeId IS UNIQUE\").consume().counters)\n",
    "    display(session.run(\n",
    "        \"CREATE CONSTRAINT ON (cvx:CVX) ASSERT cvx.CodeId IS UNIQUE\").consume().counters)\n",
    "    display(session.run(\n",
    "        \"CREATE CONSTRAINT ON (go:GO) ASSERT goo.CodeId IS UNIQUE\").consume().counters)\n",
    "    display(session.run(\n",
    "        \"CREATE CONSTRAINT ON (hgnc:HGNC) ASSERT hgnc.CodeId IS UNIQUE\").consume().counters)\n",
    "    display(session.run(\n",
    "        \"CREATE CONSTRAINT ON (icd9cm:ICDO3) ASSERT icd9cm.CodeId IS UNIQUE\").consume().counters)\n",
    "    display(session.run(\n",
    "        \"CREATE CONSTRAINT ON (icd10cm:ICD10CM) ASSERT icd10cm.CodeId IS UNIQUE\").consume().counters)\n",
    "    display(session.run(\n",
    "        \"CREATE CONSTRAINT ON (icd10pcs:ICD10PCS) ASSERT icd10pcs.CodeId IS UNIQUE\").consume().counters)\n",
    "    display(session.run(\n",
    "        \"CREATE CONSTRAINT ON (lnc:LNC) ASSERT lnc.CodeId IS UNIQUE\").consume().counters)\n",
    "    display(session.run(\n",
    "        \"CREATE CONSTRAINT ON (medrt:`MED-RT`) ASSERT medrt.CodeId IS UNIQUE\").consume().counters)\n",
    "    display(session.run(\n",
    "        \"CREATE CONSTRAINT ON (mvx:MVX) ASSERT mvx.CodeId IS UNIQUE\").consume().counters)\n",
    "    display(session.run(\n",
    "        \"CREATE CONSTRAINT ON (nci:NCI) ASSERT nci.CodeId IS UNIQUE\").consume().counters)\n",
    "    display(session.run(\n",
    "        \"CREATE CONSTRAINT ON (rxnorm:RXNORM) ASSERT rxnorm.CodeId IS UNIQUE\").consume().counters)\n",
    "    display(session.run(\n",
    "        \"CREATE CONSTRAINT ON (sct:SNOMEDCT_US) ASSERT sct.CodeId IS UNIQUE\").consume().counters)\n",
    "    display(session.run(\n",
    "        \"CREATE CONSTRAINT ON (sty:SemanticType) ASSERT sty.SemanticTypeId IS UNIQUE\").consume().counters)\n",
    "    display(session.run(\n",
    "        \"CREATE CONSTRAINT ON (sty:SemanticType) ASSERT sty.sty IS UNIQUE\").consume().counters)\n",
    "    display(session.run(\n",
    "        \"CREATE CONSTRAINT ON (sty:SemanticType) ASSERT sty.stn IS UNIQUE\").consume().counters)\n",
    "    display(session.run(\n",
    "        \"CREATE INDEX FOR (atom:Atom) ON (atom.vocab)\").consume().counters)\n",
    "    display(session.run(\n",
    "        \"CREATE INDEX FOR (atom:Atom) ON (atom.tty)\").consume().counters)\n",
    "    display(session.run(\n",
    "        \"CREATE INDEX FOR (atom:Atom) ON (atom.code)\").consume().counters)\n",
    "    display(session.run(\n",
    "        \"CREATE INDEX FOR (code:Code) ON (code.code)\").consume().counters)\n"
   ],
   "outputs": [],
   "metadata": {}
  },
  {
   "cell_type": "markdown",
   "source": [
    "# All Labels/Nodes in Graph\n",
    "\n",
    "- Note: Labels & nodes have been created in a redundant way in-order to handle individual ontologies/vocabularies (i.e. SNOMEDCT_US, NCI, RXNORM etc...) as labels.\n",
    "  - This design implementation allows use of `Code` label (which encompasses all discrete ontologies/vocabularies in the graph - in other words all the other labels except a handful). This enables a broader and more granular approach to querying the graph.\n",
    "    - For example, if the goal is to create a SNOMEDCT_US -> ICD10CM crosswalk... It is more intuitive, precise & less time intensive to traverse the graph explicitly based on those labels.\n",
    "    - If we flip the scenario, where it is uncertain what crosswalk(s) may exist between any of the vocabularies, then the `Code` label serves as a \"catch-all\" label for all vocabularies/ontologies within the graph. Thus preventing tedious trial & error to establish what relationships may exist between certain vocabularies.\n",
    "\n",
    "- **In the next .ipynb (part2) we will explore this in more detail**\n"
   ],
   "metadata": {}
  },
  {
   "cell_type": "code",
   "execution_count": null,
   "source": [
    "result = {\"label\": [], \"count\": []}\n",
    "with driver.session(database=\"neo4j\") as session:\n",
    "    for row in session.run(\"CALL db.labels()\"):\n",
    "        label = row[\"label\"]\n",
    "        query = f\"MATCH (:`{label}`) RETURN count(*) as count\"\n",
    "        count = session.run(query).single()[\"count\"]\n",
    "        result[\"label\"].append(label)\n",
    "        result[\"count\"].append(count)\n",
    "nodes_df = pd.DataFrame(data=result)\n",
    "nodes_df.sort_values(by=\"count\",ascending=False)"
   ],
   "outputs": [],
   "metadata": {}
  },
  {
   "cell_type": "markdown",
   "source": [
    "# All Relationships/Edges in the Graph\n",
    "\n",
    "- Should investigate latter half of list (extremely how counts)\n",
    "  - If cannot resolve then possibly best to trim where not providing any value\n"
   ],
   "metadata": {}
  },
  {
   "cell_type": "code",
   "execution_count": null,
   "source": [
    "result = {\"relType\": [], \"count\": []}\n",
    "with driver.session(database=\"neo4j\") as session:\n",
    "    for row in session.run(\"CALL db.relationshipTypes() YIELD relationshipType RETURN relationshipType\"):\n",
    "        relationship_type = row[\"relationshipType\"]\n",
    "        query = f\"MATCH ()-[:`{relationship_type}`]->() RETURN count(*) as count\"\n",
    "        count = session.run(query).single()[\"count\"]\n",
    "        result[\"relType\"].append(relationship_type)\n",
    "        result[\"count\"].append(count)\n",
    "rels_df = pd.DataFrame(data=result)\n",
    "rels_df.sort_values(by=\"count\",ascending=False)"
   ],
   "outputs": [],
   "metadata": {
    "scrolled": false
   }
  },
  {
   "cell_type": "code",
   "execution_count": null,
   "source": [
    "# Close connection\n",
    "driver.close()\n"
   ],
   "outputs": [],
   "metadata": {}
  }
 ],
 "metadata": {
  "interpreter": {
   "hash": "1c9c7df4e1f24ee613f52a46225a27d613b44f2088698edf0ad650fb53acb668"
  },
  "kernelspec": {
   "name": "python3",
   "display_name": "Python 3.8.6 64-bit ('clinical-informatics-umls-2mofDOxd-py3.8': poetry)"
  },
  "language_info": {
   "codemirror_mode": {
    "name": "ipython",
    "version": 3
   },
   "file_extension": ".py",
   "mimetype": "text/x-python",
   "name": "python",
   "nbconvert_exporter": "python",
   "pygments_lexer": "ipython3",
   "version": "3.8.6"
  }
 },
 "nbformat": 4,
 "nbformat_minor": 5
}